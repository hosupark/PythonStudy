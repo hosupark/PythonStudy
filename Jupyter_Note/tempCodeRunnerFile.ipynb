plt.rc('font', family='AppleGothic') 
plt.rc('axes', unicode_minus=False)

from IPython.display import set_matplotlib_formats
