{
 "cells": [
  {
   "cell_type": "code",
   "execution_count": null,
   "metadata": {},
   "outputs": [],
   "source": [
    "import pandas as pd\n",
    "import numpy as np\n",
    "import seaborn as sns\n",
    "import matplotlib.pyplot as plt\n",
    "plt.rc('font', family='AppleGothic') \n",
    "plt.rc('axes', unicode_minus=False)\n",
    "\n",
    "from IPython.display import set_matplotlib_formats\n",
    "\n",
    "# set_matplotlib_formats('retina')\n",
    "\n",
    "\n"
   ]
  },
  {
   "cell_type": "code",
   "execution_count": null,
   "metadata": {},
   "outputs": [],
   "source": [
    "df = pd.read_csv(\"Data/소상공인시장진흥공단_상가업소정보_의료기관_201909.csv\", low_memory=False)\n",
    "df_drug = df[df[\"상권업종중분류명\"] == \"약국/한약방\"].copy()\n",
    "df_drug"
   ]
  },
  {
   "cell_type": "code",
   "execution_count": null,
   "metadata": {},
   "outputs": [],
   "source": [
    "df.loc[df[\"상권업종대분류명\"] == \"의료\",\"상권업종중분류명\"].value_counts()"
   ]
  },
  {
   "cell_type": "code",
   "execution_count": null,
   "metadata": {},
   "outputs": [],
   "source": [
    "df_medi = df[df[\"상권업종중분류명\"] == \"유사의료업\"].copy()"
   ]
  },
  {
   "cell_type": "code",
   "execution_count": null,
   "metadata": {},
   "outputs": [],
   "source": [
    "df[\"상호명\"].value_counts().head()"
   ]
  },
  {
   "cell_type": "code",
   "execution_count": null,
   "metadata": {},
   "outputs": [],
   "source": [
    "df_medi[\"상호명\"].value_counts().head(10)"
   ]
  },
  {
   "cell_type": "code",
   "execution_count": null,
   "metadata": {},
   "outputs": [],
   "source": [
    "df_seoul_drug = df[(df[\"상권업종소분류명\"] == \"약국\") & (df[\"시도명\"] == \"서울특별시\")]\n",
    "print(df_seoul_drug.shape)\n",
    "df_seoul_drug.head(3)"
   ]
  },
  {
   "cell_type": "code",
   "execution_count": null,
   "metadata": {},
   "outputs": [],
   "source": [
    "c = df_seoul_drug[\"시군구명\"].value_counts()\n",
    "c.plot.bar(rot=60)"
   ]
  },
  {
   "cell_type": "code",
   "execution_count": null,
   "metadata": {},
   "outputs": [],
   "source": [
    "n = df_seoul_drug[\"시군구명\"].value_counts(normalize=True)\n",
    "n.head()"
   ]
  },
  {
   "cell_type": "code",
   "execution_count": null,
   "metadata": {},
   "outputs": [],
   "source": [
    "df_seoul_hospital = df[(df[\"상권업종소분류명\"] == \"종합병원\") & (df[\"시도명\"] == \"서울특별시\")].copy()\n",
    "df_seoul_hospital.head(3)"
   ]
  },
  {
   "cell_type": "code",
   "execution_count": null,
   "metadata": {},
   "outputs": [],
   "source": [
    "df_seoul_hospital[\"시군구명\"].value_counts().head(3)"
   ]
  },
  {
   "cell_type": "code",
   "execution_count": null,
   "metadata": {},
   "outputs": [],
   "source": [
    "df_seoul_hospital[df_seoul_hospital[\"상권업종소분류명\"].str.contains(\"종합병원\")].head(3)"
   ]
  },
  {
   "cell_type": "code",
   "execution_count": null,
   "metadata": {},
   "outputs": [],
   "source": [
    "df_seoul_hospital.loc[~df_seoul_hospital[\"상호명\"].str.contains(\"종합병원\"), \"상호명\"].unique()"
   ]
  },
  {
   "cell_type": "code",
   "execution_count": null,
   "metadata": {},
   "outputs": [],
   "source": [
    "df_seoul_hospital[df_seoul_hospital[\"상호명\"].str.contains(\"꽃배달\")]"
   ]
  },
  {
   "cell_type": "code",
   "execution_count": null,
   "metadata": {},
   "outputs": [],
   "source": [
    "drop_row = df_seoul_hospital[df_seoul_hospital[\"상호명\"].str.contains(\"꽃배달|의료기|장례식장|상담소|어린이집\")].index\n",
    "print(drop_row)\n",
    "drop_row = drop_row.tolist()\n",
    "drop_row"
   ]
  },
  {
   "cell_type": "code",
   "execution_count": null,
   "metadata": {},
   "outputs": [],
   "source": [
    "drop_row2 = df_seoul_hospital[df_seoul_hospital[\"상호명\"].str.endswith(\"의원\")].index\n",
    "drop_row2 = drop_row2.tolist()\n",
    "drop_row2"
   ]
  },
  {
   "cell_type": "code",
   "execution_count": null,
   "metadata": {},
   "outputs": [],
   "source": [
    "tot_drop_row = drop_row + drop_row2\n",
    "len(tot_drop_row)"
   ]
  },
  {
   "cell_type": "code",
   "execution_count": null,
   "metadata": {},
   "outputs": [],
   "source": [
    "print(df_seoul_hospital.shape)\n",
    "df_seoul_hospital = df_seoul_hospital.drop(tot_drop_row, axis=0)\n",
    "print(df_seoul_hospital.shape)"
   ]
  },
  {
   "cell_type": "code",
   "execution_count": null,
   "metadata": {},
   "outputs": [],
   "source": [
    "df_seoul_hospital[\"시군구명\"].value_counts().plot.bar()\n"
   ]
  },
  {
   "cell_type": "code",
   "execution_count": null,
   "metadata": {},
   "outputs": [],
   "source": [
    "plt.figure(figsize=(15, 4))\n",
    "sns.countplot(data=df_seoul_hospital, x=\"시군구명\")"
   ]
  },
  {
   "cell_type": "code",
   "execution_count": null,
   "metadata": {},
   "outputs": [],
   "source": [
    "df_seoul_hospital[\"상호명\"].unique()"
   ]
  },
  {
   "cell_type": "code",
   "execution_count": null,
   "metadata": {},
   "outputs": [],
   "source": [
    "df_seoul = df[df[\"시도명\"] == \"서울특별시\"].copy()\n",
    "df_seoul.shape"
   ]
  },
  {
   "cell_type": "code",
   "execution_count": null,
   "metadata": {},
   "outputs": [],
   "source": [
    "df_seoul[\"시군구명\"].value_counts()"
   ]
  },
  {
   "cell_type": "code",
   "execution_count": null,
   "metadata": {},
   "outputs": [],
   "source": [
    "plt.figure(figsize=(15, 4))\n",
    "sns.countplot(data=df_seoul,x=\"시군구명\", hue=\"시군구명\", legend=False, palette=sns.color_palette(\"Set3\"))"
   ]
  },
  {
   "cell_type": "code",
   "execution_count": null,
   "metadata": {},
   "outputs": [],
   "source": [
    "df_seoul[[\"경도\", \"위도\", \"시군구명\"]].plot.scatter(x=\"경도\", y=\"위도\", figsize=(8, 7), grid=True)\n"
   ]
  },
  {
   "cell_type": "code",
   "execution_count": null,
   "metadata": {},
   "outputs": [],
   "source": [
    "plt.figure(figsize=(8, 7))\n",
    "sns.scatterplot(data=df_seoul, x=\"경도\",y=\"위도\", hue=\"시군구명\")"
   ]
  },
  {
   "cell_type": "code",
   "execution_count": null,
   "metadata": {},
   "outputs": [],
   "source": [
    "plt.figure(figsize=(8, 7))\n",
    "sns.scatterplot(data=df_seoul, x=\"경도\",y=\"위도\", hue=\"상권업종중분류명\")"
   ]
  },
  {
   "cell_type": "code",
   "execution_count": null,
   "metadata": {},
   "outputs": [],
   "source": [
    "plt.figure(figsize=(8, 7))\n",
    "sns.scatterplot(data=df, x=\"경도\",y=\"위도\", hue=\"시도명\")"
   ]
  },
  {
   "cell_type": "code",
   "execution_count": null,
   "metadata": {},
   "outputs": [],
   "source": [
    "import folium\n",
    "df_seoul_hospital[\"위도\"].mean()\n",
    "df_seoul_hospital[\"경도\"].mean()\n",
    "map = folium.Map(location=[df_seoul_hospital[\"위도\"].mean(), df_seoul_hospital[\"경도\"].mean()], zoom_start=12)\n",
    "\n",
    "for n in df_seoul_hospital.index:\n",
    "    name = df_seoul_hospital.loc[n, \"상호명\"]\n",
    "    address = df_seoul_hospital.loc[n, \"도로명주소\"]\n",
    "    popup = f\"{name}-{address}\"\n",
    "    location = [df_seoul_hospital.loc[n, \"위도\"], df_seoul_hospital.loc[n, \"경도\"]]\n",
    "    # print(popup)\n",
    "    folium.Marker(location = location, popup = popup).add_to(map)\n",
    "map"
   ]
  },
  {
   "cell_type": "code",
   "execution_count": null,
   "metadata": {},
   "outputs": [],
   "source": [
    "df.count().plot.barh()\n",
    "# df.count().count().plot.bar()\n",
    "# df.isnull().sum().plot.bar()\n",
    "# df.isnull().sum().plot.barh()\n",
    "# df.isnull().sum().plot.bar(figsize=(5, 7))"
   ]
  },
  {
   "cell_type": "code",
   "execution_count": null,
   "metadata": {},
   "outputs": [],
   "source": [
    "# sns.barplot(data=df_sample)"
   ]
  }
 ],
 "metadata": {
  "kernelspec": {
   "display_name": "Python 3",
   "language": "python",
   "name": "python3"
  },
  "language_info": {
   "codemirror_mode": {
    "name": "ipython",
    "version": 3
   },
   "file_extension": ".py",
   "mimetype": "text/x-python",
   "name": "python",
   "nbconvert_exporter": "python",
   "pygments_lexer": "ipython3",
   "version": "3.9.13"
  }
 },
 "nbformat": 4,
 "nbformat_minor": 2
}
